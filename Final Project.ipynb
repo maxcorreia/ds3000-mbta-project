{
 "cells": [
  {
   "cell_type": "markdown",
   "id": "5395d0e8",
   "metadata": {},
   "source": [
    "# MBTA Data Science Project\n",
    "Data was retrieved from https://mbta-massdot.opendata.arcgis.com/datasets/mbta-gated-station-entries-historical/about"
   ]
  },
  {
   "cell_type": "code",
   "execution_count": 1,
   "id": "ba3c95a9",
   "metadata": {},
   "outputs": [],
   "source": [
    "# Import libraries\n",
    "import pandas as pd\n",
    "import numpy as np\n",
    "import matplotlib.pyplot as plt\n",
    "import seaborn as sns\n",
    "from statistics import mean\n",
    "\n",
    "# Import metrics, general model imports\n",
    "from sklearn.metrics import accuracy_score, classification_report, r2_score, mean_squared_error\n",
    "from sklearn.model_selection import train_test_split\n",
    "from sklearn.model_selection import GridSearchCV\n",
    "\n",
    "# Note that we use regression for our models since the outcome is continuous\n",
    "\n",
    "# K-Nearest Neighbors imports\n",
    "from sklearn.model_selection import train_test_split\n",
    "from sklearn.neighbors import KNeighborsRegressor\n",
    "\n",
    "# Random Forest imports\n",
    "from sklearn.ensemble import RandomForestRegressor\n",
    "\n",
    "# Support Vector Machine imports\n",
    "from sklearn.preprocessing import StandardScaler\n",
    "from sklearn.preprocessing import OneHotEncoder\n",
    "from sklearn.svm import SVR\n"
   ]
  },
  {
   "cell_type": "code",
   "execution_count": 2,
   "id": "daea263a",
   "metadata": {
    "scrolled": true
   },
   "outputs": [
    {
     "data": {
      "text/html": [
       "<div>\n",
       "<style scoped>\n",
       "    .dataframe tbody tr th:only-of-type {\n",
       "        vertical-align: middle;\n",
       "    }\n",
       "\n",
       "    .dataframe tbody tr th {\n",
       "        vertical-align: top;\n",
       "    }\n",
       "\n",
       "    .dataframe thead th {\n",
       "        text-align: right;\n",
       "    }\n",
       "</style>\n",
       "<table border=\"1\" class=\"dataframe\">\n",
       "  <thead>\n",
       "    <tr style=\"text-align: right;\">\n",
       "      <th></th>\n",
       "      <th>service_date</th>\n",
       "      <th>time_period</th>\n",
       "      <th>station_name</th>\n",
       "      <th>route_or_line</th>\n",
       "      <th>gated_entries</th>\n",
       "    </tr>\n",
       "  </thead>\n",
       "  <tbody>\n",
       "    <tr>\n",
       "      <th>0</th>\n",
       "      <td>2022-12-31</td>\n",
       "      <td>(00:00:00)</td>\n",
       "      <td>Government Center</td>\n",
       "      <td>Green Line</td>\n",
       "      <td>1.8</td>\n",
       "    </tr>\n",
       "    <tr>\n",
       "      <th>1</th>\n",
       "      <td>2022-12-31</td>\n",
       "      <td>(00:30:00)</td>\n",
       "      <td>Government Center</td>\n",
       "      <td>Green Line</td>\n",
       "      <td>9.0</td>\n",
       "    </tr>\n",
       "    <tr>\n",
       "      <th>2</th>\n",
       "      <td>2022-12-31</td>\n",
       "      <td>(01:00:00)</td>\n",
       "      <td>Arlington</td>\n",
       "      <td>Green Line</td>\n",
       "      <td>2.0</td>\n",
       "    </tr>\n",
       "    <tr>\n",
       "      <th>3</th>\n",
       "      <td>2022-12-31</td>\n",
       "      <td>(01:00:00)</td>\n",
       "      <td>Copley</td>\n",
       "      <td>Green Line</td>\n",
       "      <td>17.0</td>\n",
       "    </tr>\n",
       "    <tr>\n",
       "      <th>4</th>\n",
       "      <td>2022-12-31</td>\n",
       "      <td>(01:00:00)</td>\n",
       "      <td>Government Center</td>\n",
       "      <td>Green Line</td>\n",
       "      <td>1.8</td>\n",
       "    </tr>\n",
       "  </tbody>\n",
       "</table>\n",
       "</div>"
      ],
      "text/plain": [
       "  service_date time_period       station_name route_or_line  gated_entries\n",
       "0   2022-12-31  (00:00:00)  Government Center    Green Line            1.8\n",
       "1   2022-12-31  (00:30:00)  Government Center    Green Line            9.0\n",
       "2   2022-12-31  (01:00:00)          Arlington    Green Line            2.0\n",
       "3   2022-12-31  (01:00:00)             Copley    Green Line           17.0\n",
       "4   2022-12-31  (01:00:00)  Government Center    Green Line            1.8"
      ]
     },
     "execution_count": 2,
     "metadata": {},
     "output_type": "execute_result"
    }
   ],
   "source": [
    "# Import and compile data\n",
    "cols = [0, 1, 3, 4, 5]\n",
    "# We remove the second column due to it representing redundant data\n",
    "# It represents the stop_id, whose information is also represented by station_name\n",
    "df = pd.read_csv(\"GSE_2022.csv\", usecols=cols)\n",
    "df = df[df['route_or_line']=='Green Line'].copy().reset_index(drop=True)\n",
    "df.head()"
   ]
  },
  {
   "cell_type": "markdown",
   "id": "732155a6",
   "metadata": {},
   "source": [
    "## On column redundancy\n",
    "We see that the column stop_id in the dataset is redundant with the column station_name. Both of these columns indicate the same thing, the stop at which the target entry was allowed, however, the former is much less comprehensible than the latter is. Furthermore, many stops do not have stop_ids, thus making it more difficult to use stop_id to reference stops. As a result, we decided it would be best for the column to be removed entirely, as it was not providing additional information to the dataset. "
   ]
  },
  {
   "cell_type": "markdown",
   "id": "5cce26a2",
   "metadata": {},
   "source": [
    "## Data Cleaning\n",
    "Our remaining columns are the incorrect type. We can fix this by first checking for any null data, then setting the types as follows:\n",
    "- service_data as a datetime\n",
    "- time_period as a datetime\n",
    "- station_name as a string\n",
    "- route_or_line as a string\n",
    "- gated_entries as a float"
   ]
  },
  {
   "cell_type": "code",
   "execution_count": 3,
   "id": "4305d892",
   "metadata": {},
   "outputs": [
    {
     "name": "stdout",
     "output_type": "stream",
     "text": [
      "<class 'pandas.core.frame.DataFrame'>\n",
      "RangeIndex: 202999 entries, 0 to 202998\n",
      "Data columns (total 5 columns):\n",
      " #   Column         Non-Null Count   Dtype  \n",
      "---  ------         --------------   -----  \n",
      " 0   service_date   202999 non-null  object \n",
      " 1   time_period    202999 non-null  object \n",
      " 2   station_name   202999 non-null  object \n",
      " 3   route_or_line  202999 non-null  object \n",
      " 4   gated_entries  202999 non-null  float64\n",
      "dtypes: float64(1), object(4)\n",
      "memory usage: 7.7+ MB\n"
     ]
    }
   ],
   "source": [
    "df.info()"
   ]
  },
  {
   "cell_type": "code",
   "execution_count": 4,
   "id": "c8d6c689",
   "metadata": {},
   "outputs": [
    {
     "data": {
      "text/plain": [
       "service_date     0\n",
       "time_period      0\n",
       "station_name     0\n",
       "route_or_line    0\n",
       "gated_entries    0\n",
       "dtype: int64"
      ]
     },
     "execution_count": 4,
     "metadata": {},
     "output_type": "execute_result"
    }
   ],
   "source": [
    "# Check for null data\n",
    "df.isnull().sum()"
   ]
  },
  {
   "cell_type": "code",
   "execution_count": 5,
   "id": "99c7dff4",
   "metadata": {},
   "outputs": [
    {
     "name": "stdout",
     "output_type": "stream",
     "text": [
      "<class 'pandas.core.frame.DataFrame'>\n",
      "RangeIndex: 202999 entries, 0 to 202998\n",
      "Data columns (total 5 columns):\n",
      " #   Column         Non-Null Count   Dtype         \n",
      "---  ------         --------------   -----         \n",
      " 0   service_date   202999 non-null  datetime64[ns]\n",
      " 1   time_period    202999 non-null  datetime64[ns]\n",
      " 2   station_name   202999 non-null  string        \n",
      " 3   route_or_line  202999 non-null  string        \n",
      " 4   gated_entries  202999 non-null  float64       \n",
      "dtypes: datetime64[ns](2), float64(1), string(2)\n",
      "memory usage: 7.7 MB\n"
     ]
    }
   ],
   "source": [
    "# Setting correct types for columns\n",
    "df['service_date'] = pd.to_datetime(df['service_date'])\n",
    "df['time_period'] = pd.to_datetime(df['time_period'], format='(%H:%M:%S)')\n",
    "df['station_name'] = df['station_name'].astype('string')\n",
    "df['route_or_line'] = df['route_or_line'].astype('string')\n",
    "df['gated_entries'] = df['gated_entries'].astype('float')\n",
    "\n",
    "df.info()"
   ]
  },
  {
   "cell_type": "markdown",
   "id": "09349d7d-ffbe-4b56-b655-2eeffc1f6f2c",
   "metadata": {},
   "source": [
    "### Data setup for our algorithms"
   ]
  },
  {
   "cell_type": "code",
   "execution_count": 6,
   "id": "499c6022-a241-477b-b97e-bf64475e6745",
   "metadata": {},
   "outputs": [],
   "source": [
    "# Feature engineering using components from datetime features\n",
    "df['year'] = df['service_date'].dt.year\n",
    "df['month'] = df['service_date'].dt.month\n",
    "df['day'] = df['service_date'].dt.day\n",
    "df['hour'] = df['time_period'].dt.hour\n",
    "df['minute'] = df['time_period'].dt.minute\n",
    "\n",
    "# Dropping the original datetime columns\n",
    "df = df.drop(columns=['service_date', 'time_period'])\n",
    "\n",
    "# Extract features and target variable\n",
    "X = df.drop(columns=['gated_entries'])\n",
    "y = df['gated_entries']"
   ]
  },
  {
   "cell_type": "code",
   "execution_count": 7,
   "id": "7aa4c69b-9073-4559-9ef0-4d13d70194b4",
   "metadata": {},
   "outputs": [],
   "source": [
    "categorical_features = ['station_name', 'route_or_line']\n",
    "encoder = OneHotEncoder(handle_unknown='ignore', sparse_output=False)\n",
    "X_encoded = pd.DataFrame(encoder.fit_transform(X[categorical_features]))\n",
    "column_names = encoder.get_feature_names_out(categorical_features)\n",
    "X_encoded.columns = column_names\n",
    "X = pd.concat([X.drop(columns=categorical_features), X_encoded], axis=1)"
   ]
  },
  {
   "cell_type": "code",
   "execution_count": 8,
   "id": "998c1167-3b37-44dc-aa25-44aa8d72d8f7",
   "metadata": {},
   "outputs": [],
   "source": [
    "# Split the data into training and test sets\n",
    "X_train, X_test, y_train, y_test = train_test_split(X, y, test_size=0.2, random_state=42) "
   ]
  },
  {
   "cell_type": "markdown",
   "id": "08fe57f1-569c-46e0-8c6e-21692e66c3f9",
   "metadata": {},
   "source": [
    "## k-nearest neighbors"
   ]
  },
  {
   "cell_type": "code",
   "execution_count": 9,
   "id": "02e5a65f-fcd2-4559-9da2-40d4bfe9c4c5",
   "metadata": {},
   "outputs": [
    {
     "name": "stdout",
     "output_type": "stream",
     "text": [
      "{'n_neighbors': 3}\n",
      "0.6808305258596632\n"
     ]
    },
    {
     "data": {
      "text/html": [
       "<div>\n",
       "<style scoped>\n",
       "    .dataframe tbody tr th:only-of-type {\n",
       "        vertical-align: middle;\n",
       "    }\n",
       "\n",
       "    .dataframe tbody tr th {\n",
       "        vertical-align: top;\n",
       "    }\n",
       "\n",
       "    .dataframe thead th {\n",
       "        text-align: right;\n",
       "    }\n",
       "</style>\n",
       "<table border=\"1\" class=\"dataframe\">\n",
       "  <thead>\n",
       "    <tr style=\"text-align: right;\">\n",
       "      <th></th>\n",
       "      <th>mean_train_score</th>\n",
       "      <th>std_train_score</th>\n",
       "      <th>mean_test_score</th>\n",
       "      <th>std_test_score</th>\n",
       "    </tr>\n",
       "  </thead>\n",
       "  <tbody>\n",
       "    <tr>\n",
       "      <th>2</th>\n",
       "      <td>0.847092</td>\n",
       "      <td>0.003976</td>\n",
       "      <td>0.680831</td>\n",
       "      <td>0.010525</td>\n",
       "    </tr>\n",
       "    <tr>\n",
       "      <th>3</th>\n",
       "      <td>0.823650</td>\n",
       "      <td>0.003438</td>\n",
       "      <td>0.677489</td>\n",
       "      <td>0.009258</td>\n",
       "    </tr>\n",
       "    <tr>\n",
       "      <th>1</th>\n",
       "      <td>0.875526</td>\n",
       "      <td>0.004733</td>\n",
       "      <td>0.654598</td>\n",
       "      <td>0.009578</td>\n",
       "    </tr>\n",
       "    <tr>\n",
       "      <th>0</th>\n",
       "      <td>1.000000</td>\n",
       "      <td>0.000000</td>\n",
       "      <td>0.511954</td>\n",
       "      <td>0.028249</td>\n",
       "    </tr>\n",
       "  </tbody>\n",
       "</table>\n",
       "</div>"
      ],
      "text/plain": [
       "   mean_train_score  std_train_score  mean_test_score  std_test_score\n",
       "2          0.847092         0.003976         0.680831        0.010525\n",
       "3          0.823650         0.003438         0.677489        0.009258\n",
       "1          0.875526         0.004733         0.654598        0.009578\n",
       "0          1.000000         0.000000         0.511954        0.028249"
      ]
     },
     "execution_count": 9,
     "metadata": {},
     "output_type": "execute_result"
    }
   ],
   "source": [
    "# Build the k-nn model, experiment with different values of k and return the best results\n",
    "knn = KNeighborsRegressor()\n",
    "knn.fit(X_train, y_train)\n",
    "params = {'n_neighbors': np.arange(1, 5)}\n",
    "knn_grid = GridSearchCV(estimator = knn, param_grid = params, n_jobs=4, cv=3, return_train_score = True) \n",
    "knn_grid.fit(X_train, y_train)\n",
    "print(knn_grid.best_params_)\n",
    "print(knn_grid.best_score_)\n",
    "\n",
    "cv_results = pd.DataFrame(knn_grid.cv_results_)\n",
    "cv_results = cv_results.sort_values('mean_test_score', ascending=False)\n",
    "cv_results[['mean_train_score', 'std_train_score', 'mean_test_score', 'std_test_score']].head()"
   ]
  },
  {
   "cell_type": "code",
   "execution_count": 10,
   "id": "99883e9b-2953-4402-8961-b4f1925bde8f",
   "metadata": {},
   "outputs": [
    {
     "name": "stdout",
     "output_type": "stream",
     "text": [
      "The predicted average of gated fares is: 70.6846722495895\n",
      "The mean squared error is: 1985.8668629378762\n",
      "The r^2 value is: 0.7233300984537628\n"
     ]
    }
   ],
   "source": [
    "# Evaluate the model\n",
    "knn = KNeighborsRegressor(n_neighbors = 3)\n",
    "knn.fit(X_train, y_train)\n",
    "y_pred = knn.predict(X_test)\n",
    "print(f'The predicted average of gated fares is: {mean(y_pred)}')\n",
    "mse = mean_squared_error(y_test, y_pred)\n",
    "print(f'The mean squared error is: {mse}')\n",
    "r2 = r2_score(y_test, y_pred)\n",
    "print(f'The r^2 value is: {r2}')"
   ]
  },
  {
   "cell_type": "code",
   "execution_count": 11,
   "id": "60ec6cdb-4eb1-455f-a427-4e4c66a89162",
   "metadata": {},
   "outputs": [
    {
     "name": "stdout",
     "output_type": "stream",
     "text": [
      "As the value of k increased the overall accuracy of the model increased.\n",
      "When k=3, the model produced the highest accuracy on the test set at 68%.\n",
      "However, this model is incredibly inefficient with data sets of our size, and as such we will not be proceeding with it.\n"
     ]
    }
   ],
   "source": [
    "print('As the value of k increased the overall accuracy of the model increased.')\n",
    "print('When k=3, the model produced the highest accuracy on the test set at 68%.')\n",
    "print('However, this model is incredibly inefficient with data sets of our size, and as such we will not be proceeding with it.')"
   ]
  },
  {
   "cell_type": "markdown",
   "id": "98a1b56c-b60d-4b5e-a7b9-513f1079156c",
   "metadata": {},
   "source": [
    "## Random forest"
   ]
  },
  {
   "cell_type": "code",
   "execution_count": 12,
   "id": "3668a30d-62af-4fca-a67b-ca58dcc693a7",
   "metadata": {},
   "outputs": [
    {
     "name": "stdout",
     "output_type": "stream",
     "text": [
      "{'n_estimators': 6}\n",
      "0.7266699146779455\n"
     ]
    },
    {
     "data": {
      "text/html": [
       "<div>\n",
       "<style scoped>\n",
       "    .dataframe tbody tr th:only-of-type {\n",
       "        vertical-align: middle;\n",
       "    }\n",
       "\n",
       "    .dataframe tbody tr th {\n",
       "        vertical-align: top;\n",
       "    }\n",
       "\n",
       "    .dataframe thead th {\n",
       "        text-align: right;\n",
       "    }\n",
       "</style>\n",
       "<table border=\"1\" class=\"dataframe\">\n",
       "  <thead>\n",
       "    <tr style=\"text-align: right;\">\n",
       "      <th></th>\n",
       "      <th>mean_train_score</th>\n",
       "      <th>std_train_score</th>\n",
       "      <th>mean_test_score</th>\n",
       "      <th>std_test_score</th>\n",
       "    </tr>\n",
       "  </thead>\n",
       "  <tbody>\n",
       "    <tr>\n",
       "      <th>5</th>\n",
       "      <td>0.945387</td>\n",
       "      <td>0.002221</td>\n",
       "      <td>0.726670</td>\n",
       "      <td>0.006566</td>\n",
       "    </tr>\n",
       "    <tr>\n",
       "      <th>3</th>\n",
       "      <td>0.934155</td>\n",
       "      <td>0.001596</td>\n",
       "      <td>0.724098</td>\n",
       "      <td>0.002782</td>\n",
       "    </tr>\n",
       "    <tr>\n",
       "      <th>4</th>\n",
       "      <td>0.942395</td>\n",
       "      <td>0.001657</td>\n",
       "      <td>0.719715</td>\n",
       "      <td>0.008327</td>\n",
       "    </tr>\n",
       "    <tr>\n",
       "      <th>2</th>\n",
       "      <td>0.922750</td>\n",
       "      <td>0.000666</td>\n",
       "      <td>0.701399</td>\n",
       "      <td>0.005732</td>\n",
       "    </tr>\n",
       "    <tr>\n",
       "      <th>1</th>\n",
       "      <td>0.898334</td>\n",
       "      <td>0.004442</td>\n",
       "      <td>0.660475</td>\n",
       "      <td>0.014263</td>\n",
       "    </tr>\n",
       "  </tbody>\n",
       "</table>\n",
       "</div>"
      ],
      "text/plain": [
       "   mean_train_score  std_train_score  mean_test_score  std_test_score\n",
       "5          0.945387         0.002221         0.726670        0.006566\n",
       "3          0.934155         0.001596         0.724098        0.002782\n",
       "4          0.942395         0.001657         0.719715        0.008327\n",
       "2          0.922750         0.000666         0.701399        0.005732\n",
       "1          0.898334         0.004442         0.660475        0.014263"
      ]
     },
     "execution_count": 12,
     "metadata": {},
     "output_type": "execute_result"
    }
   ],
   "source": [
    "# Build the rf model, experiment with different values of k and return the best results\n",
    "rf = RandomForestRegressor()\n",
    "params = {'n_estimators': np.arange(1, 7)}\n",
    "rf_grid = GridSearchCV(estimator=rf, param_grid=params, n_jobs=4, cv=3, return_train_score = True) \n",
    "rf_grid.fit(X_train, y_train)\n",
    "print(rf_grid.best_params_)\n",
    "print(rf_grid.best_score_)\n",
    "\n",
    "cv_results = pd.DataFrame(rf_grid.cv_results_)\n",
    "cv_results = cv_results.sort_values('mean_test_score', ascending=False)\n",
    "cv_results[['mean_train_score', 'std_train_score', 'mean_test_score', 'std_test_score']].head()"
   ]
  },
  {
   "cell_type": "code",
   "execution_count": 13,
   "id": "3fedfc70",
   "metadata": {},
   "outputs": [
    {
     "name": "stdout",
     "output_type": "stream",
     "text": [
      "The predicted average of gated fares is: 70.55700890804597\n",
      "The mean squared error is: 1786.5628808302547\n",
      "The r^2 value is: 0.7510970218747585\n"
     ]
    }
   ],
   "source": [
    "# Evaluate the model\n",
    "rf = RandomForestRegressor(n_estimators = 6)\n",
    "rf.fit(X_train, y_train)\n",
    "y_pred = rf.predict(X_test)\n",
    "print(f'The predicted average of gated fares is: {mean(y_pred)}')\n",
    "mse = mean_squared_error(y_test, y_pred)\n",
    "print(f'The mean squared error is: {mse}')\n",
    "r2 = r2_score(y_test, y_pred)\n",
    "print(f'The r^2 value is: {r2}')"
   ]
  },
  {
   "cell_type": "code",
   "execution_count": 14,
   "id": "f9ed5ab6-0f11-4714-b2b3-bef4f0b05815",
   "metadata": {},
   "outputs": [
    {
     "name": "stdout",
     "output_type": "stream",
     "text": [
      "As the value of n_estimators increased the overall accuracy of the model increased.\n",
      "When n_estimators=6, the model produced the highest accuracy on the test set at 73%.\n",
      "This is better than the other results, and as such we will be proceeding with this model.\n"
     ]
    }
   ],
   "source": [
    "print('As the value of n_estimators increased the overall accuracy of the model increased.')\n",
    "print('When n_estimators=6, the model produced the highest accuracy on the test set at 73%.')\n",
    "print('This is better than the other results, and as such we will be proceeding with this model.')"
   ]
  },
  {
   "cell_type": "markdown",
   "id": "8634208a-4f64-474c-943b-ab459eb44073",
   "metadata": {},
   "source": [
    "## Support vector machine"
   ]
  },
  {
   "cell_type": "code",
   "execution_count": 15,
   "id": "eda7feb7-f37f-4d8a-9e43-f8421c49eee2",
   "metadata": {},
   "outputs": [
    {
     "name": "stdout",
     "output_type": "stream",
     "text": [
      "{'C': 2, 'kernel': 'linear'}\n",
      "0.2940778956733311\n"
     ]
    },
    {
     "data": {
      "text/html": [
       "<div>\n",
       "<style scoped>\n",
       "    .dataframe tbody tr th:only-of-type {\n",
       "        vertical-align: middle;\n",
       "    }\n",
       "\n",
       "    .dataframe tbody tr th {\n",
       "        vertical-align: top;\n",
       "    }\n",
       "\n",
       "    .dataframe thead th {\n",
       "        text-align: right;\n",
       "    }\n",
       "</style>\n",
       "<table border=\"1\" class=\"dataframe\">\n",
       "  <thead>\n",
       "    <tr style=\"text-align: right;\">\n",
       "      <th></th>\n",
       "      <th>mean_train_score</th>\n",
       "      <th>std_train_score</th>\n",
       "      <th>mean_test_score</th>\n",
       "      <th>std_test_score</th>\n",
       "    </tr>\n",
       "  </thead>\n",
       "  <tbody>\n",
       "    <tr>\n",
       "      <th>1</th>\n",
       "      <td>0.293993</td>\n",
       "      <td>0.003507</td>\n",
       "      <td>0.294078</td>\n",
       "      <td>0.006898</td>\n",
       "    </tr>\n",
       "    <tr>\n",
       "      <th>0</th>\n",
       "      <td>0.293367</td>\n",
       "      <td>0.003482</td>\n",
       "      <td>0.293451</td>\n",
       "      <td>0.006900</td>\n",
       "    </tr>\n",
       "  </tbody>\n",
       "</table>\n",
       "</div>"
      ],
      "text/plain": [
       "   mean_train_score  std_train_score  mean_test_score  std_test_score\n",
       "1          0.293993         0.003507         0.294078        0.006898\n",
       "0          0.293367         0.003482         0.293451        0.006900"
      ]
     },
     "execution_count": 15,
     "metadata": {},
     "output_type": "execute_result"
    }
   ],
   "source": [
    "svm = SVR()\n",
    "params = {'C': np.arange(1, 3),\n",
    "         'kernel': ['linear']}\n",
    "svm_grid = GridSearchCV(estimator=svm, param_grid=params, n_jobs=4, cv=3, return_train_score=True) \n",
    "svm_grid.fit(X_train, y_train)\n",
    "print(svm_grid.best_params_)\n",
    "print(svm_grid.best_score_)\n",
    "\n",
    "cv_results = pd.DataFrame(svm_grid.cv_results_)\n",
    "cv_results = cv_results.sort_values('mean_test_score', ascending=False)\n",
    "cv_results[['mean_train_score', 'std_train_score', 'mean_test_score', 'std_test_score']].head()"
   ]
  },
  {
   "cell_type": "code",
   "execution_count": 16,
   "id": "06a68178-6b96-4342-ac4b-b5f4b4d04cd8",
   "metadata": {},
   "outputs": [
    {
     "name": "stdout",
     "output_type": "stream",
     "text": [
      "The predicted average of gated fares is: 43.41780836469611\n",
      "The mean squared error is: 7770.793245048098\n",
      "The r^2 value is: -0.08262272872764997\n"
     ]
    }
   ],
   "source": [
    "# Evaluate the model\n",
    "svm = SVR(C = 2)\n",
    "svm.fit(X_train, y_train)\n",
    "y_pred = svm.predict(X_test)\n",
    "print(f'The predicted average of gated fares is: {mean(y_pred)}')\n",
    "mse = mean_squared_error(y_test, y_pred)\n",
    "print(f'The mean squared error is: {mse}')\n",
    "r2 = r2_score(y_test, y_pred)\n",
    "print(f'The r^2 value is: {r2}')"
   ]
  },
  {
   "cell_type": "code",
   "execution_count": 17,
   "id": "82ce9afc-8608-4f9c-8149-8cc20601621a",
   "metadata": {},
   "outputs": [
    {
     "name": "stdout",
     "output_type": "stream",
     "text": [
      "As the value of C increased the overall accuracy of the model increased.\n",
      "When C=2, the model had the worst accuracy out of the three at 29%.\n",
      "Furthermore, training these parameters took the most time, and are therefore harder to replicate.\n",
      "This is much worse than the other two, and as such we will not be proceeding with this model.\n"
     ]
    }
   ],
   "source": [
    "print('As the value of C increased the overall accuracy of the model increased.')\n",
    "print('When C=2, the model had the worst accuracy out of the three at 29%.')\n",
    "print('Furthermore, training these parameters took the most time, and are therefore harder to replicate.')\n",
    "print('This is much worse than the other two, and as such we will not be proceeding with this model.')"
   ]
  },
  {
   "cell_type": "markdown",
   "id": "4a413feb-7d73-4137-a1de-e63a92f6eac7",
   "metadata": {},
   "source": [
    "Overall, we choose the **Random Forest Regression** model for our project due to its higher accuracy, higher r^2 and lower mean squared error compared to the other models when they were run in the same amount of time."
   ]
  },
  {
   "cell_type": "markdown",
   "id": "da243d77-6313-41e7-9c05-8eb1b8b8f6bd",
   "metadata": {},
   "source": [
    "## Random forest visualizations"
   ]
  },
  {
   "cell_type": "code",
   "execution_count": 18,
   "id": "cdb67ac3-0d2d-493f-b0e1-e694be22c220",
   "metadata": {},
   "outputs": [
    {
     "name": "stdout",
     "output_type": "stream",
     "text": [
      "month     0.140541\n",
      "day       0.169972\n",
      "hour      0.325342\n",
      "minute    0.023016\n",
      "dtype: float64\n"
     ]
    },
    {
     "data": {
      "image/png": "[encoded data removed]",
      "text/plain": [
       "<Figure size 640x480 with 1 Axes>"
      ]
     },
     "metadata": {},
     "output_type": "display_data"
    }
   ],
   "source": [
    "# Graph importance of temporal features in estimating gated fare amounts\n",
    "fi = rf.feature_importances_\n",
    "std = np.std([tree.feature_importances_ for tree in rf.estimators_], axis=0)\n",
    "feature_names = X.columns\n",
    "forest_importances = pd.Series(fi, index=feature_names)\n",
    "feature_vals = ['month', 'day', 'hour', 'minute']\n",
    "test = forest_importances.loc[feature_vals]\n",
    "print(test)\n",
    "fig, ax = plt.subplots()\n",
    "test.plot.bar(ax=ax)\n",
    "ax.set_title(\"Importance of Features in Estimating Gated Fare Amounts\")\n",
    "ax.set_ylabel(\"Score of Importance\")\n",
    "fig.tight_layout()"
   ]
  }
 ],
 "metadata": {
  "kernelspec": {
   "display_name": "Python 3 (ipykernel)",
   "language": "python",
   "name": "python3"
  },
  "language_info": {
   "codemirror_mode": {
    "name": "ipython",
    "version": 3
   },
   "file_extension": ".py",
   "mimetype": "text/x-python",
   "name": "python",
   "nbconvert_exporter": "python",
   "pygments_lexer": "ipython3",
   "version": "3.11.6"
  }
 },
 "nbformat": 4,
 "nbformat_minor": 5
}
